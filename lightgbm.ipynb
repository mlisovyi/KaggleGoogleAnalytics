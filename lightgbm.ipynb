{
 "cells": [
  {
   "cell_type": "markdown",
   "metadata": {
    "_uuid": "006380ad6101e0a7a92e54f806d5c118f5a2e372"
   },
   "source": [
    "# Basic model building\n",
    "\n",
    "The main goal is to look at the problem from a different perspective: **build a classifier to predict if a purchase will take place or not** instead of building a regressor to predict the total value of purchase"
   ]
  },
  {
   "cell_type": "markdown",
   "metadata": {
    "_uuid": "90c75750bfffc327985462432da39b4ac7c7eedf"
   },
   "source": [
    "The original function to flatten json features"
   ]
  },
  {
   "cell_type": "code",
   "execution_count": 1,
   "metadata": {
    "ExecuteTime": {
     "end_time": "2018-11-30T22:11:34.786096Z",
     "start_time": "2018-11-30T22:11:33.970788Z"
    },
    "_cell_guid": "b1076dfc-b9ad-4769-8c92-a6c4dae69d19",
    "_kg_hide-input": true,
    "_uuid": "8f2839f25d086af736a60e9eeb907d3b93b6e0e5"
   },
   "outputs": [
    {
     "name": "stdout",
     "output_type": "stream",
     "text": [
      "['.ipynb_checkpoints', 'add-timezone.ipynb', 'cv_0.csv.gz', 'cv_0_2017-05-01_2017-10-15_2017-12-01_2018-01-31.csv.gz', 'cv_0_2018-01-01_2018-07-02_2018-08-16_2018-10-15.csv.gz', 'cv_1.csv.gz', 'cv_1_2017-11-02_2018-05-03_2018-06-17_2018-08-16.csv.gz', 'cv_2.csv.gz', 'cv_2_2017-09-03_2018-03-04_2018-04-18_2018-06-17.csv.gz', 'data-preprocessing.ipynb', 'flatten-json-fields-smart-dump-data.ipynb', 'lightgbm.ipynb', 'oof_lgbm1log_reg.csv', 'oof_lgbm1_reg.csv', 'sub_lgbm1log_reg.csv', 'sub_lgbm1_reg.csv_subm1', 'sub_lgbm1_reg.csv_subm2', 'test-user.csv.gz', 'test.csv.gz', 'test_2018-05-01_2018-10-15_2018-05-01_2018-10-15.csv.gz', 'train-user.csv.gz', 'y-user.csv.gz', 'ylog-user.csv.gz']\n"
     ]
    }
   ],
   "source": [
    "# The number of entries to read in. Use it to have fast turn-around\n",
    "max_events=None\n",
    "# Number on CV folds\n",
    "n_cv=5\n",
    "# Do classifiers\n",
    "do_clfs=False\n",
    "# Drop session classifiers, dt_days2Christmas, etc\n",
    "re_cols_to_drop = ['dt_days2Christmas', 'dt_weekofyear']\n",
    "\n",
    "import os\n",
    "import numpy as np\n",
    "import pandas as pd\n",
    "import warnings\n",
    "warnings.simplefilter(action='ignore', category=FutureWarning)\n",
    "\n",
    "import matplotlib.pyplot as plt\n",
    "%matplotlib inline\n",
    "\n",
    "from sklearn.metrics import roc_auc_score, average_precision_score, accuracy_score, mean_squared_error, confusion_matrix\n",
    "\n",
    "PATH = './'\n",
    "#PATH = '../input/data-preprocessing/'\n",
    "\n",
    "print(os.listdir(PATH))"
   ]
  },
  {
   "cell_type": "code",
   "execution_count": 2,
   "metadata": {
    "ExecuteTime": {
     "end_time": "2018-11-30T22:11:34.905435Z",
     "start_time": "2018-11-30T22:11:34.787897Z"
    },
    "_uuid": "24994adea19fb3e694369f45e663a67e67952a62"
   },
   "outputs": [
    {
     "name": "stdout",
     "output_type": "stream",
     "text": [
      "add-timezone.ipynb\r\n",
      "cv_0_2017-05-01_2017-10-15_2017-12-01_2018-01-31.csv.gz\r\n",
      "cv_0_2018-01-01_2018-07-02_2018-08-16_2018-10-15.csv.gz\r\n",
      "cv_0.csv.gz\r\n",
      "cv_1_2017-11-02_2018-05-03_2018-06-17_2018-08-16.csv.gz\r\n",
      "cv_1.csv.gz\r\n",
      "cv_2_2017-09-03_2018-03-04_2018-04-18_2018-06-17.csv.gz\r\n",
      "cv_2.csv.gz\r\n",
      "data-preprocessing.ipynb\r\n",
      "flatten-json-fields-smart-dump-data.ipynb\r\n",
      "lightgbm.ipynb\r\n",
      "oof_lgbm1log_reg.csv\r\n",
      "oof_lgbm1_reg.csv\r\n",
      "sub_lgbm1log_reg.csv\r\n",
      "sub_lgbm1_reg.csv_subm1\r\n",
      "sub_lgbm1_reg.csv_subm2\r\n",
      "test_2018-05-01_2018-10-15_2018-05-01_2018-10-15.csv.gz\r\n",
      "test.csv.gz\r\n",
      "test-user.csv.gz\r\n",
      "train-user.csv.gz\r\n",
      "ylog-user.csv.gz\r\n",
      "y-user.csv.gz\r\n"
     ]
    }
   ],
   "source": [
    "!ls"
   ]
  },
  {
   "cell_type": "markdown",
   "metadata": {
    "_uuid": "90ef503c237aa3cc21a7ffc0bad0e5e4a3168134"
   },
   "source": [
    "## Let's load the original data with pre-processing"
   ]
  },
  {
   "cell_type": "code",
   "execution_count": 3,
   "metadata": {
    "ExecuteTime": {
     "end_time": "2018-11-30T22:11:34.920174Z",
     "start_time": "2018-11-30T22:11:34.910782Z"
    },
    "_kg_hide-input": true,
    "_uuid": "6b348f248688089a4eb39d7a44a2e5ed4cd6f83d"
   },
   "outputs": [],
   "source": [
    "def reduce_mem_usage(df):\n",
    "    \"\"\" iterate through all the columns of a dataframe and modify the data type\n",
    "        to reduce memory usage.        \n",
    "    \"\"\"\n",
    "    start_mem = df.memory_usage().sum() / 1024**2\n",
    "    print('Memory usage of dataframe is {:.2f} MB'.format(start_mem))\n",
    "    \n",
    "    for col in df.columns:\n",
    "        col_type = df[col].dtype\n",
    "        \n",
    "        if col_type != object and col_type.name != 'category' and 'datetime' not in col_type.name:\n",
    "            c_min = df[col].min()\n",
    "            c_max = df[col].max()\n",
    "            if str(col_type)[:3] == 'int':\n",
    "                if c_min > np.iinfo(np.int8).min and c_max < np.iinfo(np.int8).max:\n",
    "                    df[col] = df[col].astype(np.int8)\n",
    "                elif c_min > np.iinfo(np.int16).min and c_max < np.iinfo(np.int16).max:\n",
    "                    df[col] = df[col].astype(np.int16)\n",
    "                elif c_min > np.iinfo(np.int32).min and c_max < np.iinfo(np.int32).max:\n",
    "                    df[col] = df[col].astype(np.int32)\n",
    "                elif c_min > np.iinfo(np.int64).min and c_max < np.iinfo(np.int64).max:\n",
    "                    df[col] = df[col].astype(np.int64)  \n",
    "            else:\n",
    "                if c_min > np.finfo(np.float16).min and c_max < np.finfo(np.float16).max:\n",
    "                    df[col] = df[col].astype(np.float16)\n",
    "                elif c_min > np.finfo(np.float32).min and c_max < np.finfo(np.float32).max:\n",
    "                    df[col] = df[col].astype(np.float32)\n",
    "                else:\n",
    "                    df[col] = df[col].astype(np.float64)\n",
    "        elif 'datetime' not in col_type.name:\n",
    "            df[col] = df[col].astype('category')\n",
    "\n",
    "    end_mem = df.memory_usage().sum() / 1024**2\n",
    "    print('Memory usage after optimization is: {:.2f} MB'.format(end_mem))\n",
    "    print('Decreased by {:.1f}%'.format(100 * (start_mem - end_mem) / start_mem))\n",
    "    \n",
    "    return df\n",
    "\n",
    "def load_df(fin='../input/train.csv', nrows=None):\n",
    "    df = pd.read_csv(fin, \n",
    "                     dtype={'fullVisitorId': 'str', # Important!!\n",
    "                           },\n",
    "                     nrows=nrows)\n",
    "\n",
    "    print(\"Loaded {}. Shape: {}\".format(os.path.basename(fin), df.shape))\n",
    "    return reduce_mem_usage(df)"
   ]
  },
  {
   "cell_type": "code",
   "execution_count": 4,
   "metadata": {
    "ExecuteTime": {
     "end_time": "2018-11-30T22:11:43.228157Z",
     "start_time": "2018-11-30T22:11:34.921890Z"
    },
    "_kg_hide-input": true,
    "_uuid": "cc88f0dda2ce6a73df522428ab6e3195542d7603"
   },
   "outputs": [
    {
     "name": "stdout",
     "output_type": "stream",
     "text": [
      "Loaded cv_0_2017-05-01_2017-10-15_2017-12-01_2018-01-31.csv.gz. Shape: (329636, 111)\n",
      "Memory usage of dataframe is 279.16 MB\n",
      "Memory usage after optimization is: 82.62 MB\n",
      "Decreased by 70.4%\n",
      "CPU times: user 12.1 s, sys: 4.02 s, total: 16.1 s\n",
      "Wall time: 8.3 s\n"
     ]
    }
   ],
   "source": [
    "%%time\n",
    "X_trn = load_df(PATH+'/cv_0_2017-05-01_2017-10-15_2017-12-01_2018-01-31.csv.gz',\n",
    "            nrows=max_events)\n",
    "\n",
    "y_trn = X_trn['TARGET']\n",
    "idx_trn = X_trn['fullVisitorId']\n",
    "\n",
    "X_trn.drop(['fullVisitorId', 'TARGET'], axis=1, inplace=True)\n",
    "\n",
    "for re_col in re_cols_to_drop:\n",
    "    X_trn.drop([c for c in X_trn.columns if re_col in c], axis=1, inplace=True)"
   ]
  },
  {
   "cell_type": "code",
   "execution_count": 5,
   "metadata": {
    "ExecuteTime": {
     "end_time": "2018-11-30T22:11:51.634216Z",
     "start_time": "2018-11-30T22:11:43.231229Z"
    }
   },
   "outputs": [
    {
     "name": "stdout",
     "output_type": "stream",
     "text": [
      "Loaded test.csv.gz. Shape: (296530, 110)\n",
      "Memory usage of dataframe is 248.86 MB\n",
      "Memory usage after optimization is: 72.78 MB\n",
      "Decreased by 70.8%\n"
     ]
    }
   ],
   "source": [
    "X_tst = load_df(PATH+'/test.csv.gz',\n",
    "            nrows=max_events)\n",
    "\n",
    "hasTarget=False\n",
    "if 'TARGET'in X_tst.columns:\n",
    "    y_tst = X_tst['TARGET']\n",
    "    hasTarget=True\n",
    "idx_tst = X_tst['fullVisitorId']\n",
    "\n",
    "X_tst.drop(['fullVisitorId'], axis=1, inplace=True)\n",
    "if hasTarget:\n",
    "    X_tst.drop(['TARGET'], axis=1, inplace=True)\n",
    "\n",
    "for re_col in re_cols_to_drop:\n",
    "    X_tst.drop([c for c in X_tst.columns if re_col in c], axis=1, inplace=True)"
   ]
  },
  {
   "cell_type": "code",
   "execution_count": null,
   "metadata": {},
   "outputs": [],
   "source": []
  },
  {
   "cell_type": "code",
   "execution_count": 6,
   "metadata": {
    "ExecuteTime": {
     "end_time": "2018-11-30T22:11:51.690759Z",
     "start_time": "2018-11-30T22:11:51.643648Z"
    },
    "_uuid": "0ebad77bf49092173619f6ba25b63bb98b5fd1fa"
   },
   "outputs": [
    {
     "data": {
      "text/html": [
       "<div>\n",
       "<style scoped>\n",
       "    .dataframe tbody tr th:only-of-type {\n",
       "        vertical-align: middle;\n",
       "    }\n",
       "\n",
       "    .dataframe tbody tr th {\n",
       "        vertical-align: top;\n",
       "    }\n",
       "\n",
       "    .dataframe thead th {\n",
       "        text-align: right;\n",
       "    }\n",
       "</style>\n",
       "<table border=\"1\" class=\"dataframe\">\n",
       "  <thead>\n",
       "    <tr style=\"text-align: right;\">\n",
       "      <th></th>\n",
       "      <th>channelGrouping</th>\n",
       "      <th>visitNumber</th>\n",
       "      <th>device_browser</th>\n",
       "      <th>device_deviceCategory</th>\n",
       "      <th>device_isMobile</th>\n",
       "      <th>device_operatingSystem</th>\n",
       "      <th>geoNetwork_city</th>\n",
       "      <th>geoNetwork_continent</th>\n",
       "      <th>geoNetwork_country</th>\n",
       "      <th>geoNetwork_metro</th>\n",
       "      <th>...</th>\n",
       "      <th>frac_revenue_2M</th>\n",
       "      <th>totals_hits_MAX_2M</th>\n",
       "      <th>totals_hits_MEAN_2M</th>\n",
       "      <th>totals_hits_SUM_2M</th>\n",
       "      <th>totals_pageviews_MAX_2M</th>\n",
       "      <th>totals_pageviews_MEAN_2M</th>\n",
       "      <th>totals_pageviews_SUM_2M</th>\n",
       "      <th>totals_timeOnSite_MAX_2M</th>\n",
       "      <th>totals_timeOnSite_MEAN_2M</th>\n",
       "      <th>totals_timeOnSite_SUM_2M</th>\n",
       "    </tr>\n",
       "  </thead>\n",
       "  <tbody>\n",
       "    <tr>\n",
       "      <th>0</th>\n",
       "      <td>2</td>\n",
       "      <td>3</td>\n",
       "      <td>1</td>\n",
       "      <td>0</td>\n",
       "      <td>0.0</td>\n",
       "      <td>1</td>\n",
       "      <td>0</td>\n",
       "      <td>2</td>\n",
       "      <td>9</td>\n",
       "      <td>0</td>\n",
       "      <td>...</td>\n",
       "      <td>0.0</td>\n",
       "      <td>1.0</td>\n",
       "      <td>1.0</td>\n",
       "      <td>3.0</td>\n",
       "      <td>1.0</td>\n",
       "      <td>1.0</td>\n",
       "      <td>3.0</td>\n",
       "      <td>-1.0</td>\n",
       "      <td>-1.0</td>\n",
       "      <td>-3.0</td>\n",
       "    </tr>\n",
       "    <tr>\n",
       "      <th>1</th>\n",
       "      <td>5</td>\n",
       "      <td>1</td>\n",
       "      <td>1</td>\n",
       "      <td>0</td>\n",
       "      <td>0.0</td>\n",
       "      <td>0</td>\n",
       "      <td>0</td>\n",
       "      <td>1</td>\n",
       "      <td>13</td>\n",
       "      <td>0</td>\n",
       "      <td>...</td>\n",
       "      <td>0.0</td>\n",
       "      <td>NaN</td>\n",
       "      <td>NaN</td>\n",
       "      <td>NaN</td>\n",
       "      <td>NaN</td>\n",
       "      <td>NaN</td>\n",
       "      <td>NaN</td>\n",
       "      <td>NaN</td>\n",
       "      <td>NaN</td>\n",
       "      <td>NaN</td>\n",
       "    </tr>\n",
       "    <tr>\n",
       "      <th>2</th>\n",
       "      <td>2</td>\n",
       "      <td>1</td>\n",
       "      <td>2</td>\n",
       "      <td>1</td>\n",
       "      <td>1.0</td>\n",
       "      <td>4</td>\n",
       "      <td>33</td>\n",
       "      <td>1</td>\n",
       "      <td>1</td>\n",
       "      <td>14</td>\n",
       "      <td>...</td>\n",
       "      <td>0.0</td>\n",
       "      <td>NaN</td>\n",
       "      <td>NaN</td>\n",
       "      <td>NaN</td>\n",
       "      <td>NaN</td>\n",
       "      <td>NaN</td>\n",
       "      <td>NaN</td>\n",
       "      <td>NaN</td>\n",
       "      <td>NaN</td>\n",
       "      <td>NaN</td>\n",
       "    </tr>\n",
       "    <tr>\n",
       "      <th>3</th>\n",
       "      <td>0</td>\n",
       "      <td>1</td>\n",
       "      <td>2</td>\n",
       "      <td>0</td>\n",
       "      <td>0.0</td>\n",
       "      <td>3</td>\n",
       "      <td>2</td>\n",
       "      <td>1</td>\n",
       "      <td>1</td>\n",
       "      <td>1</td>\n",
       "      <td>...</td>\n",
       "      <td>0.0</td>\n",
       "      <td>2.0</td>\n",
       "      <td>2.0</td>\n",
       "      <td>2.0</td>\n",
       "      <td>2.0</td>\n",
       "      <td>2.0</td>\n",
       "      <td>2.0</td>\n",
       "      <td>13.0</td>\n",
       "      <td>13.0</td>\n",
       "      <td>13.0</td>\n",
       "    </tr>\n",
       "    <tr>\n",
       "      <th>4</th>\n",
       "      <td>0</td>\n",
       "      <td>1</td>\n",
       "      <td>2</td>\n",
       "      <td>1</td>\n",
       "      <td>1.0</td>\n",
       "      <td>4</td>\n",
       "      <td>0</td>\n",
       "      <td>0</td>\n",
       "      <td>4</td>\n",
       "      <td>0</td>\n",
       "      <td>...</td>\n",
       "      <td>0.0</td>\n",
       "      <td>1.0</td>\n",
       "      <td>1.0</td>\n",
       "      <td>1.0</td>\n",
       "      <td>1.0</td>\n",
       "      <td>1.0</td>\n",
       "      <td>1.0</td>\n",
       "      <td>-1.0</td>\n",
       "      <td>-1.0</td>\n",
       "      <td>-1.0</td>\n",
       "    </tr>\n",
       "  </tbody>\n",
       "</table>\n",
       "<p>5 rows × 108 columns</p>\n",
       "</div>"
      ],
      "text/plain": [
       "   channelGrouping  visitNumber  device_browser  device_deviceCategory  \\\n",
       "0                2            3               1                      0   \n",
       "1                5            1               1                      0   \n",
       "2                2            1               2                      1   \n",
       "3                0            1               2                      0   \n",
       "4                0            1               2                      1   \n",
       "\n",
       "   device_isMobile  device_operatingSystem  geoNetwork_city  \\\n",
       "0              0.0                       1                0   \n",
       "1              0.0                       0                0   \n",
       "2              1.0                       4               33   \n",
       "3              0.0                       3                2   \n",
       "4              1.0                       4                0   \n",
       "\n",
       "   geoNetwork_continent  geoNetwork_country  geoNetwork_metro  \\\n",
       "0                     2                   9                 0   \n",
       "1                     1                  13                 0   \n",
       "2                     1                   1                14   \n",
       "3                     1                   1                 1   \n",
       "4                     0                   4                 0   \n",
       "\n",
       "             ...             frac_revenue_2M  totals_hits_MAX_2M  \\\n",
       "0            ...                         0.0                 1.0   \n",
       "1            ...                         0.0                 NaN   \n",
       "2            ...                         0.0                 NaN   \n",
       "3            ...                         0.0                 2.0   \n",
       "4            ...                         0.0                 1.0   \n",
       "\n",
       "   totals_hits_MEAN_2M  totals_hits_SUM_2M  totals_pageviews_MAX_2M  \\\n",
       "0                  1.0                 3.0                      1.0   \n",
       "1                  NaN                 NaN                      NaN   \n",
       "2                  NaN                 NaN                      NaN   \n",
       "3                  2.0                 2.0                      2.0   \n",
       "4                  1.0                 1.0                      1.0   \n",
       "\n",
       "   totals_pageviews_MEAN_2M  totals_pageviews_SUM_2M  \\\n",
       "0                       1.0                      3.0   \n",
       "1                       NaN                      NaN   \n",
       "2                       NaN                      NaN   \n",
       "3                       2.0                      2.0   \n",
       "4                       1.0                      1.0   \n",
       "\n",
       "   totals_timeOnSite_MAX_2M  totals_timeOnSite_MEAN_2M  \\\n",
       "0                      -1.0                       -1.0   \n",
       "1                       NaN                        NaN   \n",
       "2                       NaN                        NaN   \n",
       "3                      13.0                       13.0   \n",
       "4                      -1.0                       -1.0   \n",
       "\n",
       "   totals_timeOnSite_SUM_2M  \n",
       "0                      -3.0  \n",
       "1                       NaN  \n",
       "2                       NaN  \n",
       "3                      13.0  \n",
       "4                      -1.0  \n",
       "\n",
       "[5 rows x 108 columns]"
      ]
     },
     "execution_count": 6,
     "metadata": {},
     "output_type": "execute_result"
    }
   ],
   "source": [
    "X_trn.head()"
   ]
  },
  {
   "cell_type": "markdown",
   "metadata": {
    "_uuid": "50ea2094f211bef529e54b1b401f98ada4be435a"
   },
   "source": [
    "## FeatureEngineering"
   ]
  },
  {
   "cell_type": "code",
   "execution_count": 7,
   "metadata": {
    "ExecuteTime": {
     "end_time": "2018-11-30T22:11:56.021170Z",
     "start_time": "2018-11-30T22:11:51.695028Z"
    },
    "_kg_hide-input": true,
    "_uuid": "c86d93fcf77f41759f2b211bd3c6a780cc497a5c"
   },
   "outputs": [],
   "source": [
    "X_trn.replace(np.inf, 0, inplace=True)"
   ]
  },
  {
   "cell_type": "markdown",
   "metadata": {
    "_uuid": "93cf94fb906e47fecb33d1b14b4239451e1031c0"
   },
   "source": [
    "### Data overview"
   ]
  },
  {
   "cell_type": "code",
   "execution_count": 8,
   "metadata": {
    "ExecuteTime": {
     "end_time": "2018-11-30T22:11:56.040468Z",
     "start_time": "2018-11-30T22:11:56.023340Z"
    },
    "_uuid": "812409fd6ba717cf629d01766c1f834900bc6205"
   },
   "outputs": [
    {
     "name": "stdout",
     "output_type": "stream",
     "text": [
      "<class 'pandas.core.frame.DataFrame'>\n",
      "RangeIndex: 329636 entries, 0 to 329635\n",
      "Data columns (total 108 columns):\n",
      "channelGrouping                    int64\n",
      "visitNumber                        int64\n",
      "device_browser                     int64\n",
      "device_deviceCategory              int64\n",
      "device_isMobile                    float16\n",
      "device_operatingSystem             int64\n",
      "geoNetwork_city                    int64\n",
      "geoNetwork_continent               int64\n",
      "geoNetwork_country                 int64\n",
      "geoNetwork_metro                   int64\n",
      "geoNetwork_networkDomain           int64\n",
      "geoNetwork_region                  int64\n",
      "geoNetwork_subContinent            int64\n",
      "totals_pageviews                   int64\n",
      "totals_hits                        int64\n",
      "totals_bounces                     int64\n",
      "totals_newVisits                   int64\n",
      "totals_transactionRevenue          int64\n",
      "totals_visits                      int64\n",
      "totals_timeOnSite                  int64\n",
      "totals_sessionQualityDim           int64\n",
      "trafficSource_adContent            int64\n",
      "trafficSource_campaign             int64\n",
      "trafficSource_isTrueDirect         float16\n",
      "trafficSource_medium               int64\n",
      "trafficSource_source               int64\n",
      "geoNetwork_country_area            float32\n",
      "geoNetwork_country_population      float32\n",
      "geoNetwork_country_pop_density     float16\n",
      "geoNetwork_country_m2f             float16\n",
      "geoNetwork_country_gdp_growth      float16\n",
      "geoNetwork_country_gdp_capita      float32\n",
      "geoNetwork_country_unemployment    float16\n",
      "geoNetwork_country_pop_urban       float16\n",
      "geoNetwork_country_handy           float16\n",
      "geoNetwork_country_internet        float16\n",
      "totals_hits_DIV_pageviews          float64\n",
      "totals_hits_MIN_pageviews          int64\n",
      "dt_dayofweek                       int64\n",
      "geoNetwork_networkExtension        int64\n",
      "geoNetwork_networkSite             int64\n",
      "visitStartTime_hour                int64\n",
      "visitStartTime_hour_diff9          int64\n",
      "dt_days_since_last_visit           int64\n",
      "n_visits_12M                       int64\n",
      "n_purchases_12M                    float16\n",
      "sum_purchases_12M                  float16\n",
      "n_bounces_12M                      float16\n",
      "frac_bounces_12M                   float16\n",
      "frac_purchaces_12M                 float16\n",
      "frac_revenue_12M                   float16\n",
      "totals_hits_MAX_12M                int64\n",
      "totals_hits_MEAN_12M               float16\n",
      "totals_hits_SUM_12M                int64\n",
      "totals_pageviews_MAX_12M           int64\n",
      "totals_pageviews_MEAN_12M          float16\n",
      "totals_pageviews_SUM_12M           int64\n",
      "totals_timeOnSite_MAX_12M          int64\n",
      "totals_timeOnSite_MEAN_12M         float16\n",
      "totals_timeOnSite_SUM_12M          float32\n",
      "n_visits_6M                        int64\n",
      "n_purchases_6M                     float16\n",
      "sum_purchases_6M                   float16\n",
      "n_bounces_6M                       float16\n",
      "frac_bounces_6M                    float16\n",
      "frac_purchaces_6M                  float16\n",
      "frac_revenue_6M                    float16\n",
      "totals_hits_MAX_6M                 int64\n",
      "totals_hits_MEAN_6M                float16\n",
      "totals_hits_SUM_6M                 int64\n",
      "totals_pageviews_MAX_6M            int64\n",
      "totals_pageviews_MEAN_6M           float16\n",
      "totals_pageviews_SUM_6M            int64\n",
      "totals_timeOnSite_MAX_6M           int64\n",
      "totals_timeOnSite_MEAN_6M          float16\n",
      "totals_timeOnSite_SUM_6M           float32\n",
      "n_visits_3M                        float16\n",
      "n_purchases_3M                     float16\n",
      "sum_purchases_3M                   float16\n",
      "n_bounces_3M                       float16\n",
      "frac_bounces_3M                    float16\n",
      "frac_purchaces_3M                  float16\n",
      "frac_revenue_3M                    float16\n",
      "totals_hits_MAX_3M                 float16\n",
      "totals_hits_MEAN_3M                float16\n",
      "totals_hits_SUM_3M                 float16\n",
      "totals_pageviews_MAX_3M            float16\n",
      "totals_pageviews_MEAN_3M           float16\n",
      "totals_pageviews_SUM_3M            float16\n",
      "totals_timeOnSite_MAX_3M           float16\n",
      "totals_timeOnSite_MEAN_3M          float16\n",
      "totals_timeOnSite_SUM_3M           float32\n",
      "n_visits_2M                        float16\n",
      "n_purchases_2M                     float16\n",
      "sum_purchases_2M                   float16\n",
      "n_bounces_2M                       float16\n",
      "frac_bounces_2M                    float16\n",
      "frac_purchaces_2M                  float16\n",
      "frac_revenue_2M                    float16\n",
      "totals_hits_MAX_2M                 float16\n",
      "totals_hits_MEAN_2M                float16\n",
      "totals_hits_SUM_2M                 float16\n",
      "totals_pageviews_MAX_2M            float16\n",
      "totals_pageviews_MEAN_2M           float16\n",
      "totals_pageviews_SUM_2M            float16\n",
      "totals_timeOnSite_MAX_2M           float16\n",
      "totals_timeOnSite_MEAN_2M          float16\n",
      "totals_timeOnSite_SUM_2M           float16\n",
      "dtypes: float16(58), float32(6), float64(1), int64(43)\n",
      "memory usage: 154.7 MB\n"
     ]
    }
   ],
   "source": [
    "X_trn.info(verbose=True)"
   ]
  },
  {
   "cell_type": "code",
   "execution_count": 9,
   "metadata": {
    "ExecuteTime": {
     "end_time": "2018-11-30T22:11:56.047690Z",
     "start_time": "2018-11-30T22:11:56.042418Z"
    },
    "_uuid": "9ddd734474a457314e87c3e9bd7f2a78d403d8a4"
   },
   "outputs": [
    {
     "name": "stdout",
     "output_type": "stream",
     "text": [
      "(329636, 108) (329636,)\n"
     ]
    }
   ],
   "source": [
    "print(X_trn.shape, y_trn.shape)"
   ]
  },
  {
   "cell_type": "markdown",
   "metadata": {
    "_uuid": "2af8ef0a77a09cfa5c1cc26fac968c0171257873"
   },
   "source": [
    "### LGBM extras"
   ]
  },
  {
   "cell_type": "code",
   "execution_count": 10,
   "metadata": {
    "ExecuteTime": {
     "end_time": "2018-11-30T22:11:56.077078Z",
     "start_time": "2018-11-30T22:11:56.049383Z"
    },
    "_kg_hide-input": true,
    "_uuid": "33c927acb6ab55140d83ac41fcd7240e98175c74"
   },
   "outputs": [],
   "source": [
    "import lightgbm as lgb\n",
    "def learning_rate_decay_power(current_iter):\n",
    "    base_learning_rate = 5e-2\n",
    "    min_lr = 5e-3\n",
    "    lr = base_learning_rate  * np.power(.99, current_iter)\n",
    "    return lr if lr > min_lr else min_lr"
   ]
  },
  {
   "cell_type": "markdown",
   "metadata": {
    "_uuid": "2a1879d28b057aeb82771b5362de67e9290fc1ab"
   },
   "source": [
    "# Train a pre-processing classifier"
   ]
  },
  {
   "cell_type": "code",
   "execution_count": 11,
   "metadata": {
    "ExecuteTime": {
     "end_time": "2018-11-30T22:11:56.098936Z",
     "start_time": "2018-11-30T22:11:56.079253Z"
    },
    "_kg_hide-input": true,
    "_uuid": "02ebc7b9938d29987ddba706e812a1dbea3034be"
   },
   "outputs": [],
   "source": [
    "from sklearn.model_selection import StratifiedKFold, KFold\n",
    "from sklearn.base import clone, ClassifierMixin, RegressorMixin\n",
    "\n",
    "def train_single_model(clf_, X_, y_, random_state_=314, opt_parameters_={}, fit_params_={}):\n",
    "    c = clone(clf_)\n",
    "    c.set_params(**opt_parameters_)\n",
    "    c.set_params(random_state=random_state_)\n",
    "    return c.fit(X_, y_, **fit_params_)\n",
    "\n",
    "def fill_signal_stats(y_, stats_, name_='trn'):\n",
    "    '''\n",
    "    Fill statistics of the signal distribution\n",
    "    '''\n",
    "    y_non_zero = y_.loc[lambda x: x!=0]\n",
    "    stats_[name_]['min'].append(y_non_zero.min())\n",
    "    stats_[name_]['max'].append(y_non_zero.max())\n",
    "    stats_[name_]['mean'].append(y_non_zero.mean())\n",
    "    stats_[name_]['sum'].append(y_non_zero.sum())\n",
    "    stats_[name_]['frac'].append(y_non_zero.shape[0] / y_.shape[0])\n",
    "\n",
    "def train_model_in_CV(model, X, y, metric, metric_args={},\n",
    "                            model_name='xmodel',\n",
    "                            seed=31416, n=5,\n",
    "                            opt_parameters_={}, fit_params_={},\n",
    "                            verbose=True):\n",
    "    # the list of classifiers for voting ensable\n",
    "    clfs = []\n",
    "    # performance \n",
    "    perf_eval = {'score_i_oof': 0,\n",
    "                 'score_i_ave': 0,\n",
    "                 'score_i_std': 0,\n",
    "                 'score_i': [],\n",
    "                 'signal_stats': {'trn': {'min':[], 'max':[], 'frac':[], 'sum':[], 'mean':[]}, \n",
    "                                  'val': {'min':[], 'max':[], 'frac':[], 'sum':[], 'mean':[]}\n",
    "                                 }\n",
    "                }\n",
    "    # full-sample oof prediction\n",
    "    y_full_oof = pd.Series(np.zeros(shape=(y.shape[0],)), \n",
    "                          index=y.index)\n",
    "    \n",
    "    if 'sample_weight' in metric_args:\n",
    "        sample_weight=metric_args['sample_weight']\n",
    "        \n",
    "    doSqrt=False\n",
    "    if 'sqrt' in metric_args:\n",
    "        doSqrt=True\n",
    "        del metric_args['sqrt']\n",
    "\n",
    "    cv = KFold(n, shuffle=True, random_state=seed) #Stratified\n",
    "    # The out-of-fold (oof) prediction for the k-1 sample in the outer CV loop\n",
    "    y_oof = pd.Series(np.zeros(shape=(X.shape[0],)), \n",
    "                      index=X.index)\n",
    "    scores = []\n",
    "    clfs = []\n",
    "\n",
    "    for n_fold, (trn_idx, val_idx) in enumerate(cv.split(X, (y!=0).astype(np.int8))):\n",
    "        X_trn, y_trn = X.iloc[trn_idx], y.iloc[trn_idx]\n",
    "        X_val, y_val = X.iloc[val_idx], y.iloc[val_idx]\n",
    "        \n",
    "        fill_signal_stats(y_trn, perf_eval['signal_stats'], 'trn')\n",
    "        fill_signal_stats(y_val, perf_eval['signal_stats'], 'val')\n",
    "\n",
    "        if fit_params_:\n",
    "            # use _stp data for early stopping\n",
    "            fit_params_[\"eval_set\"] = [(X_trn,y_trn), (X_val,y_val)]\n",
    "            fit_params_['verbose'] = verbose\n",
    "\n",
    "        clf = train_single_model(model, X_trn, y_trn, 314+n_fold, opt_parameters_, fit_params_)\n",
    "\n",
    "        clfs.append(('{}{}'.format(model_name,n_fold), clf))\n",
    "        # evaluate performance\n",
    "        if isinstance(clf, RegressorMixin):\n",
    "            y_oof.iloc[val_idx] = clf.predict(X_val)\n",
    "        elif isinstance(clf, ClassifierMixin):\n",
    "            y_oof.iloc[val_idx] = clf.predict_proba(X_val)[:,1]\n",
    "        else:\n",
    "            raise TypeError('Provided model does not inherit neither from a regressor nor from classifier')\n",
    "        if 'sample_weight' in metric_args:\n",
    "            metric_args['sample_weight'] = y_val.map(sample_weight)\n",
    "        scores.append(metric(y_val, y_oof.iloc[val_idx], **metric_args))\n",
    "        \n",
    "        m = metric(y_val, np.zeros(y_val.shape), **metric_args)\n",
    "        if doSqrt:\n",
    "            m = np.sqrt(m)\n",
    "        print('Performance with const=0: {:.4f}'.format(m))\n",
    "        #cleanup\n",
    "        del X_trn, y_trn, X_val, y_val\n",
    "\n",
    "    # Store performance info for this CV\n",
    "    if 'sample_weight' in metric_args:\n",
    "        metric_args['sample_weight'] = y_oof.map(sample_weight)\n",
    "    perf_eval['score_i_oof'] = metric(y, y_oof, **metric_args)\n",
    "    perf_eval['score_i'] = scores\n",
    "    \n",
    "    if doSqrt:\n",
    "        for k in perf_eval.keys():\n",
    "            if 'score' in k:\n",
    "                perf_eval[k] = np.sqrt(perf_eval[k])\n",
    "        scores = np.sqrt(scores)\n",
    "            \n",
    "    perf_eval['score_i_ave'] = np.mean(scores)\n",
    "    perf_eval['score_i_std'] = np.std(scores)\n",
    "\n",
    "    return clfs, perf_eval, y_oof\n",
    "\n",
    "def print_perf_clf(name, perf_eval):\n",
    "    print('Performance of the model:')    \n",
    "    print('Mean(Val) score inner {} model: {:.4f}+-{:.4f}'.format(name, \n",
    "                                                                      perf_eval['score_i_ave'],\n",
    "                                                                      perf_eval['score_i_std']\n",
    "                                                                     ))\n",
    "    print('Min/max scores on folds: {:.4f} / {:.4f}'.format(np.min(perf_eval['score_i']),\n",
    "                                                            np.max(perf_eval['score_i'])))\n",
    "    print('OOF score inner {} model: {:.4f}'.format(name, perf_eval['score_i_oof']))\n",
    "    print('Scores in individual folds: {}'.format(perf_eval['score_i']))"
   ]
  },
  {
   "cell_type": "code",
   "execution_count": 12,
   "metadata": {
    "ExecuteTime": {
     "end_time": "2018-11-30T22:11:56.147885Z",
     "start_time": "2018-11-30T22:11:56.100832Z"
    },
    "_kg_hide-input": true,
    "_uuid": "c1a5231a11a5832d9e6e57bd318ecad5ef77886c"
   },
   "outputs": [],
   "source": [
    "preproc_clf={}\n",
    "\n",
    "if do_clfs:\n",
    "    preproc_clf = {\n",
    "        'lgbm500_clf': (lgb.LGBMClassifier(max_depth=-1, min_child_samples=400, random_state=314, silent=True, metric='None', n_jobs=4, n_estimators=5000, learning_rate=0.1),\n",
    "                 {'scale_pos_weight':500, 'colsample_bytree': 0.75, 'min_child_weight': 10.0, 'num_leaves': 32, 'reg_alpha':1, 'subsample': 0.75}, \n",
    "                 {\"early_stopping_rounds\":50, \n",
    "                  \"eval_metric\" : 'auc',\n",
    "                  'eval_names': ['train', 'early_stop'],\n",
    "                  'verbose': 100, \n",
    "                  'callbacks': [lgb.reset_parameter(learning_rate=learning_rate_decay_power)],\n",
    "                  'categorical_feature': 'auto'},\n",
    "                 (y_trn!=0).astype(np.int8)\n",
    "                ),\n",
    "#         'lgbm1_clf': (lgb.LGBMClassifier(max_depth=-1, min_child_samples=400, random_state=314, silent=True, metric='None', n_jobs=4, n_estimators=5000, learning_rate=0.1),\n",
    "#                  {'scale_pos_weight':1, 'colsample_bytree': 0.75, 'min_child_weight': 10.0, 'num_leaves': 32, 'reg_alpha':1, 'subsample': 0.75}, \n",
    "#                  {\"early_stopping_rounds\":50, \n",
    "#                   \"eval_metric\" : 'auc',\n",
    "#                   'eval_names': ['train', 'early_stop'],\n",
    "#                   'verbose': 100, \n",
    "#                   'callbacks': [lgb.reset_parameter(learning_rate=learning_rate_decay_power)],\n",
    "#                   'categorical_feature': 'auto'},\n",
    "#                  (y!=0).astype(np.int8)\n",
    "#                 ),\n",
    "        'lgbm1000_clf': (lgb.LGBMClassifier(max_depth=-1, min_child_samples=400, random_state=314, silent=True, metric='None', n_jobs=4, n_estimators=5000, learning_rate=0.1),\n",
    "                 {'scale_pos_weight':1000, 'colsample_bytree': 0.75, 'min_child_weight': 10.0, 'num_leaves': 32, 'reg_alpha':1, 'subsample': 0.75}, \n",
    "                 {\"early_stopping_rounds\":50, \n",
    "                  \"eval_metric\" : 'auc',\n",
    "                  'eval_names': ['train', 'early_stop'],\n",
    "                  'verbose': 100, \n",
    "                  'callbacks': [lgb.reset_parameter(learning_rate=learning_rate_decay_power)],\n",
    "                  'categorical_feature': 'auto'},\n",
    "                 (y_trn!=0).astype(np.int8)\n",
    "                ),\n",
    "        'lgbm100_clf': (lgb.LGBMClassifier(max_depth=-1, min_child_samples=400, random_state=314, silent=True, metric='None', n_jobs=4, n_estimators=5000, learning_rate=0.1),\n",
    "                 {'scale_pos_weight':100, 'colsample_bytree': 0.75, 'min_child_weight': 10.0, 'num_leaves': 32, 'reg_alpha':1, 'subsample': 0.75}, \n",
    "                 {\"early_stopping_rounds\":50, \n",
    "                  \"eval_metric\" : 'auc',\n",
    "                  'eval_names': ['train', 'early_stop'],\n",
    "                  'verbose': 100, \n",
    "                  'callbacks': [lgb.reset_parameter(learning_rate=learning_rate_decay_power)],\n",
    "                  'categorical_feature': 'auto'},\n",
    "                 (y_trn!=0).astype(np.int8)\n",
    "                ),\n",
    "}"
   ]
  },
  {
   "cell_type": "code",
   "execution_count": 13,
   "metadata": {
    "ExecuteTime": {
     "end_time": "2018-11-30T22:11:56.158360Z",
     "start_time": "2018-11-30T22:11:56.149681Z"
    },
    "_uuid": "f5cef1e5b7abc0f8b8ac0b2b1ca39291dbc46fe7"
   },
   "outputs": [
    {
     "name": "stdout",
     "output_type": "stream",
     "text": [
      "CPU times: user 46 µs, sys: 12 µs, total: 58 µs\n",
      "Wall time: 18.8 µs\n"
     ]
    }
   ],
   "source": [
    "%%time\n",
    "clfss_fe = {}\n",
    "results_fe = {}\n",
    "y_oofs_fe = {}\n",
    "for name, (clf, clf_pars, fit_pars, y_) in preproc_clf.items():\n",
    "    print('--------------- {} -----------'.format(name))\n",
    "    clfs_, perf_eval, y_full_oof = train_model_in_CV(clf, X_trn, y_, roc_auc_score, \n",
    "                                                          metric_args={},\n",
    "                                                          model_name=name, \n",
    "                                                          opt_parameters_=clf_pars,\n",
    "                                                          fit_params_=fit_pars, \n",
    "                                                          n=n_cv,\n",
    "                                                          verbose=1000)\n",
    "    results_fe[name] = perf_eval\n",
    "    clfss_fe[name] = clfs_\n",
    "    y_oofs_fe[name] = y_full_oof\n",
    "    print_perf_clf(name, perf_eval)"
   ]
  },
  {
   "cell_type": "code",
   "execution_count": 14,
   "metadata": {
    "ExecuteTime": {
     "end_time": "2018-11-30T22:11:56.162487Z",
     "start_time": "2018-11-30T22:11:56.159756Z"
    },
    "_kg_hide-input": true,
    "_kg_hide-output": true,
    "_uuid": "5ea8b14e2a42cdda52d4a72b278a80a5eef15ba7"
   },
   "outputs": [],
   "source": [
    "for name_clf in preproc_clf.keys():\n",
    "    print('\\nConfusion matrix of {} CLF:'.format(name_clf))\n",
    "    print(pd.DataFrame(confusion_matrix((y_trn!=0).astype(np.int8), y_oofs_fe[name_clf]>0.5),\n",
    "          columns=['pred_neg', 'pred_pos'], index=['neg', 'pos']))"
   ]
  },
  {
   "cell_type": "code",
   "execution_count": 15,
   "metadata": {
    "ExecuteTime": {
     "end_time": "2018-11-30T22:11:56.166847Z",
     "start_time": "2018-11-30T22:11:56.163813Z"
    },
    "_uuid": "83ed48873fbadcdb8e5fe6d76dd60ad64246615b"
   },
   "outputs": [],
   "source": [
    "y_clf_fe = {}\n",
    "for c in preproc_clf:\n",
    "    clfs_= clfss_fe[c]\n",
    "    y_sub = np.zeros(idx_tst.shape)\n",
    "    for clf_ in clfs_:\n",
    "        y_sub += clf_[1].predict_proba(X_tst)[:,1]\n",
    "    y_sub /= len(clfs_)\n",
    "    \n",
    "    y_clf_fe[c] = y_sub"
   ]
  },
  {
   "cell_type": "markdown",
   "metadata": {
    "_uuid": "ecfefd905e914e69b013100d81ff7c986e016952"
   },
   "source": [
    "# Train a model"
   ]
  },
  {
   "cell_type": "code",
   "execution_count": 16,
   "metadata": {
    "ExecuteTime": {
     "end_time": "2018-11-30T22:11:56.247646Z",
     "start_time": "2018-11-30T22:11:56.168780Z"
    },
    "_kg_hide-input": true,
    "_uuid": "ba96c3cece9ba2cf7a2fc3d3dd622b4b3fe1fe21"
   },
   "outputs": [],
   "source": [
    "from sklearn.ensemble import ExtraTreesRegressor\n",
    "clf_inputs = {\n",
    "\n",
    "        'lgbm1_reg': (lgb.LGBMRegressor(max_depth=-1, min_child_samples=400, random_state=314, silent=True, metric='None', n_jobs=4, n_estimators=5000, learning_rate=0.05),\n",
    "                 {'colsample_bytree': 0.715, 'min_child_weight': 10.0, 'num_leaves': 32, 'reg_alpha': 5, 'subsample': 0.756}, \n",
    "                 {\"early_stopping_rounds\":100, \n",
    "                  \"eval_metric\" : 'rmse',\n",
    "                  'eval_names': ['train', 'early_stop'],\n",
    "                  'verbose': 100, \n",
    "                  'callbacks': [lgb.reset_parameter(learning_rate=learning_rate_decay_power)],\n",
    "                  'categorical_feature': 'auto'},\n",
    "                 y_trn\n",
    "                ),\n",
    "       }"
   ]
  },
  {
   "cell_type": "code",
   "execution_count": 17,
   "metadata": {
    "ExecuteTime": {
     "end_time": "2018-11-30T22:13:29.996615Z",
     "start_time": "2018-11-30T22:11:56.249229Z"
    },
    "_kg_hide-input": true,
    "_uuid": "4f23add787bf7d273aa2e461e9aee4c9aad1afd4"
   },
   "outputs": [
    {
     "name": "stdout",
     "output_type": "stream",
     "text": [
      "--------------- lgbm1_reg -----------\n",
      "(329636, 108) (329636,)\n",
      "Training until validation scores don't improve for 100 rounds.\n",
      "[100]\ttrain's rmse: 0.302045\tearly_stop's rmse: 0.374533\n",
      "[200]\ttrain's rmse: 0.300726\tearly_stop's rmse: 0.374378\n",
      "[300]\ttrain's rmse: 0.300199\tearly_stop's rmse: 0.374363\n",
      "Early stopping, best iteration is:\n",
      "[273]\ttrain's rmse: 0.300335\tearly_stop's rmse: 0.374359\n",
      "Performance with const=0: 0.3778\n",
      "Training until validation scores don't improve for 100 rounds.\n",
      "[100]\ttrain's rmse: 0.317902\tearly_stop's rmse: 0.315781\n",
      "Early stopping, best iteration is:\n",
      "[81]\ttrain's rmse: 0.318388\tearly_stop's rmse: 0.315741\n",
      "Performance with const=0: 0.3178\n",
      "Training until validation scores don't improve for 100 rounds.\n",
      "[100]\ttrain's rmse: 0.31761\tearly_stop's rmse: 0.318614\n",
      "[200]\ttrain's rmse: 0.316364\tearly_stop's rmse: 0.318555\n",
      "Early stopping, best iteration is:\n",
      "[148]\ttrain's rmse: 0.316839\tearly_stop's rmse: 0.318538\n",
      "Performance with const=0: 0.3213\n",
      "Training until validation scores don't improve for 100 rounds.\n",
      "[100]\ttrain's rmse: 0.315399\tearly_stop's rmse: 0.327893\n",
      "[200]\ttrain's rmse: 0.314189\tearly_stop's rmse: 0.32765\n",
      "[300]\ttrain's rmse: 0.313686\tearly_stop's rmse: 0.327575\n",
      "[400]\ttrain's rmse: 0.313235\tearly_stop's rmse: 0.32752\n",
      "[500]\ttrain's rmse: 0.312798\tearly_stop's rmse: 0.327486\n",
      "[600]\ttrain's rmse: 0.312382\tearly_stop's rmse: 0.327461\n",
      "[700]\ttrain's rmse: 0.311963\tearly_stop's rmse: 0.32745\n",
      "[800]\ttrain's rmse: 0.311583\tearly_stop's rmse: 0.327446\n",
      "[900]\ttrain's rmse: 0.311213\tearly_stop's rmse: 0.327433\n",
      "[1000]\ttrain's rmse: 0.310835\tearly_stop's rmse: 0.327438\n",
      "Early stopping, best iteration is:\n",
      "[914]\ttrain's rmse: 0.311161\tearly_stop's rmse: 0.327429\n",
      "Performance with const=0: 0.3316\n",
      "Training until validation scores don't improve for 100 rounds.\n",
      "[100]\ttrain's rmse: 0.330157\tearly_stop's rmse: 0.25797\n",
      "Early stopping, best iteration is:\n",
      "[21]\ttrain's rmse: 0.334135\tearly_stop's rmse: 0.257587\n",
      "Performance with const=0: 0.2588\n",
      "Performance of the model:\n",
      "Mean(Val) score inner lgbm1_reg model: 0.3187+-0.0372\n",
      "Min/max scores on folds: 0.2576 / 0.3744\n",
      "OOF score inner lgbm1_reg model: 0.3209\n",
      "Scores in individual folds: [0.3743591  0.31574109 0.31853816 0.32742887 0.25758747]\n",
      "CPU times: user 6min 7s, sys: 4.74 s, total: 6min 11s\n",
      "Wall time: 1min 33s\n"
     ]
    }
   ],
   "source": [
    "%%time\n",
    "clfss = {}\n",
    "results = {}\n",
    "y_full_oofs = {}\n",
    "for name, (clf, clf_pars, fit_pars, y_) in clf_inputs.items():\n",
    "    print('--------------- {} -----------'.format(name))\n",
    "    print(X_trn.shape, y_.shape)\n",
    "    clfs_, perf_eval, y_full_oof = train_model_in_CV(clf, X_trn, y_, mean_squared_error, \n",
    "                                                          metric_args={'sqrt': True},\n",
    "                                                          model_name=name, \n",
    "                                                          opt_parameters_=clf_pars,\n",
    "                                                          fit_params_=fit_pars, \n",
    "                                                          n=n_cv,\n",
    "                                                          verbose=100)\n",
    "    results[name] = perf_eval\n",
    "    clfss[name] = clfs_\n",
    "    y_full_oofs[name] = y_full_oof\n",
    "    print_perf_clf(name, perf_eval)"
   ]
  },
  {
   "cell_type": "code",
   "execution_count": 18,
   "metadata": {
    "ExecuteTime": {
     "end_time": "2018-11-30T22:13:30.016950Z",
     "start_time": "2018-11-30T22:13:29.999027Z"
    },
    "code_folding": []
   },
   "outputs": [
    {
     "name": "stdout",
     "output_type": "stream",
     "text": [
      "Model performance on OOF: 0.32089.\n",
      "Improvement wrt zero-prediction: -0.00281\n"
     ]
    }
   ],
   "source": [
    "print('Model performance on OOF: {:.5f}.\\nImprovement wrt zero-prediction: {:.5f}'.format(\n",
    "    np.sqrt(mean_squared_error(y_trn, y_full_oofs['lgbm1_reg'])),\n",
    "    np.sqrt(mean_squared_error(y_trn, y_full_oofs['lgbm1_reg']))-np.sqrt(mean_squared_error(y_trn, np.zeros(y_trn.shape))))\n",
    "     )"
   ]
  },
  {
   "cell_type": "code",
   "execution_count": 19,
   "metadata": {
    "ExecuteTime": {
     "end_time": "2018-11-30T22:13:30.039738Z",
     "start_time": "2018-11-30T22:13:30.019697Z"
    },
    "_kg_hide-input": true,
    "_uuid": "4bacad4b92005fc41c7997b9001efa0e0be2e850"
   },
   "outputs": [
    {
     "name": "stdout",
     "output_type": "stream",
     "text": [
      "RMSE of lgbm1_reg without MINUS with 0-clipping: 0.000071\n"
     ]
    }
   ],
   "source": [
    "for n, y_full_oof in y_full_oofs.items():\n",
    "    y_ = clf_inputs[n][3]\n",
    "    print('RMSE of {} without MINUS with 0-clipping: {:.6f}'.format(n,\n",
    "                                                                                 np.sqrt(mean_squared_error(y_, y_full_oof)) -\n",
    "                                                                                 np.sqrt(mean_squared_error(y_, y_full_oof.clip_lower(0)))\n",
    "                                                                                ))"
   ]
  },
  {
   "cell_type": "code",
   "execution_count": 20,
   "metadata": {
    "ExecuteTime": {
     "end_time": "2018-11-30T22:13:30.054552Z",
     "start_time": "2018-11-30T22:13:30.041508Z"
    }
   },
   "outputs": [
    {
     "data": {
      "text/plain": [
       "{'trn': {'frac': [0.0002957816979386291,\n",
       "   0.0003261170456829308,\n",
       "   0.0003185329283414673,\n",
       "   0.0003185329283414673,\n",
       "   0.0003488693977073213],\n",
       "  'max': [20.83, 21.0, 21.0, 21.0, 21.0],\n",
       "  'mean': [17.9, 17.97, 18.12, 17.97, 18.05],\n",
       "  'min': [15.61, 15.5, 15.5, 15.5, 15.5],\n",
       "  'sum': [1397.0, 1545.0, 1523.0, 1510.0, 1660.0]},\n",
       " 'val': {'frac': [0.00042470573959470936,\n",
       "   0.0003033658440396196,\n",
       "   0.0003337024284435815,\n",
       "   0.0003337024284435815,\n",
       "   0.0002123560908277337],\n",
       "  'max': [21.0, 20.77, 20.83, 19.94, 20.0],\n",
       "  'mean': [18.28, 18.2, 17.55, 18.12, 17.72],\n",
       "  'min': [15.5, 16.22, 15.61, 15.99, 16.16],\n",
       "  'sum': [511.8, 364.0, 386.0, 398.8, 248.1]}}"
      ]
     },
     "execution_count": 20,
     "metadata": {},
     "output_type": "execute_result"
    }
   ],
   "source": [
    "perf_eval['signal_stats']"
   ]
  },
  {
   "cell_type": "markdown",
   "metadata": {
    "_uuid": "f8382143a8bb5b9491f8eb61bf63948645deb910"
   },
   "source": [
    "## Prepare submission"
   ]
  },
  {
   "cell_type": "code",
   "execution_count": 21,
   "metadata": {
    "ExecuteTime": {
     "end_time": "2018-11-30T22:13:48.344497Z",
     "start_time": "2018-11-30T22:13:30.057951Z"
    },
    "_kg_hide-input": true,
    "_uuid": "4b2258231f7d6594520706724730d256e0673192"
   },
   "outputs": [],
   "source": [
    "y_subs= {}\n",
    "for c in clf_inputs:\n",
    "    clfs_= clfss[c]\n",
    "    y_sub = np.zeros(idx_tst.shape)\n",
    "    for clf_ in clfs_:\n",
    "        y_sub += np.clip(clf_[1].predict(X_tst), \n",
    "                         0, \n",
    "                         None\n",
    "                        )\n",
    "    y_sub /= len(clfs_)\n",
    "    \n",
    "    y_subs[c] = y_sub"
   ]
  },
  {
   "cell_type": "code",
   "execution_count": 22,
   "metadata": {
    "ExecuteTime": {
     "end_time": "2018-11-30T22:13:48.353363Z",
     "start_time": "2018-11-30T22:13:48.346631Z"
    }
   },
   "outputs": [],
   "source": [
    "if hasTarget:\n",
    "    print('Model performance on a future test set: {:.5f}.\\nImprovement wrt zero-prediction: {:.5f}'.format(\n",
    "    np.sqrt(mean_squared_error(y_tst, y_subs['lgbm1_reg'])),\n",
    "    np.sqrt(mean_squared_error(y_tst, y_subs['lgbm1_reg']))-np.sqrt(mean_squared_error(y_tst, np.zeros(y_tst.shape))))\n",
    "     )"
   ]
  },
  {
   "cell_type": "markdown",
   "metadata": {
    "_uuid": "69c2720d869a4c656bb065f05e4eadc77f800033"
   },
   "source": [
    "## Store submission and OOFs"
   ]
  },
  {
   "cell_type": "code",
   "execution_count": 23,
   "metadata": {
    "ExecuteTime": {
     "end_time": "2018-11-30T22:13:49.593318Z",
     "start_time": "2018-11-30T22:13:48.355224Z"
    },
    "_kg_hide-input": true,
    "_uuid": "7490118f317ecb4586dc38a19a7e7468d7360f8c"
   },
   "outputs": [],
   "source": [
    "for c in clf_inputs:\n",
    "    sub = pd.DataFrame(y_subs[c], index=idx_tst)\n",
    "    sub.columns = ['PredictedLogRevenue']\n",
    "    sub.clip_lower(0, inplace=True)\n",
    "    sub.to_csv('sub_{}.csv'.format(c))\n",
    "    \n",
    "#     oof = pd.DataFrame(y_full_oofs[c].values, index=idx_trn)\n",
    "#     oof.columns = ['OOFTotalLogRevenue']\n",
    "#     oof.clip_lower(0, inplace=True)\n",
    "#     oof.to_csv('oof_{}.csv'.format(c))"
   ]
  },
  {
   "cell_type": "code",
   "execution_count": 47,
   "metadata": {
    "ExecuteTime": {
     "end_time": "2018-11-30T21:42:14.306857Z",
     "start_time": "2018-11-30T21:42:14.151789Z"
    },
    "_uuid": "74393ccabb730980628bfc46dfe9807e06d1ac1e"
   },
   "outputs": [
    {
     "name": "stdout",
     "output_type": "stream",
     "text": [
      "add-timezone.ipynb\r\n",
      "cv_0_2018-01-01_2018-07-02_2018-08-16_2018-10-15.csv.gz\r\n",
      "cv_0.csv.gz\r\n",
      "cv_1_2017-11-02_2018-05-03_2018-06-17_2018-08-16.csv.gz\r\n",
      "cv_1.csv.gz\r\n",
      "cv_2_2017-09-03_2018-03-04_2018-04-18_2018-06-17.csv.gz\r\n",
      "cv_2.csv.gz\r\n",
      "data-preprocessing.ipynb\r\n",
      "flatten-json-fields-smart-dump-data.ipynb\r\n",
      "lightgbm.ipynb\r\n",
      "oof_lgbm1log_reg.csv\r\n",
      "oof_lgbm1_reg.csv\r\n",
      "sub_lgbm1log_reg.csv\r\n",
      "sub_lgbm1_reg.csv\r\n",
      "sub_lgbm1_reg.csv_subm1\r\n",
      "test_2018-05-01_2018-10-15_2018-05-01_2018-10-15.csv.gz\r\n",
      "test.csv.gz\r\n",
      "test-user.csv.gz\r\n",
      "train-user.csv.gz\r\n",
      "ylog-user.csv.gz\r\n",
      "y-user.csv.gz\r\n"
     ]
    }
   ],
   "source": [
    "!ls"
   ]
  },
  {
   "cell_type": "markdown",
   "metadata": {
    "_uuid": "aab99b72af313aabd0a2dd3b04a9cd03957164ff"
   },
   "source": [
    "# Feature importance"
   ]
  },
  {
   "cell_type": "code",
   "execution_count": 48,
   "metadata": {
    "ExecuteTime": {
     "end_time": "2018-11-30T21:42:14.701058Z",
     "start_time": "2018-11-30T21:42:14.310042Z"
    },
    "_kg_hide-input": true,
    "_uuid": "35d9207ecfca8c683d373c2ef34f243143e7347d"
   },
   "outputs": [],
   "source": [
    "import matplotlib.pyplot as plt\n",
    "import seaborn as sns\n",
    "\n",
    "def display_importances(feature_importance_df_, n_feat=30, silent=False, dump_strs=[], \n",
    "                        fout_name=None, title='Features (avg over folds)'):\n",
    "    '''\n",
    "    Make a plot of most important features from a tree-based model\n",
    "\n",
    "    Parameters\n",
    "    ----------\n",
    "    feature_importance_df_ : pd.DataFrame\n",
    "        The input dataframe. \n",
    "        Must contain columns `'feature'` and `'importance'`.\n",
    "        The dataframe will be first grouped by `'feature'` and the mean `'importance'` will be calculated.\n",
    "        This allows to calculate and plot importance averaged over folds, \n",
    "        when the same features appear in the dataframe as many time as there are folds in CV.\n",
    "    n_feats : int [default: 20]\n",
    "        The maximum number of the top features to be plotted\n",
    "    silent : bool [default: False]\n",
    "        Dump additionsl information, in particular the mean importances for features \n",
    "        defined by `dump_strs` and the features with zero (<1e-3) importance\n",
    "    dump_strs : list of strings [default: []]\n",
    "        Features containing either of these srings will be printed to the screen\n",
    "    fout_name : str or None [default: None]\n",
    "        The name of the file to dump the figure. \n",
    "        If `None`, no file is created (to be used in notebooks)\n",
    "    '''\n",
    "    # Plot feature importances\n",
    "    cols = feature_importance_df_[[\"feature\", \"importance\"]].groupby(\"feature\").mean().sort_values(\n",
    "            by=\"importance\", ascending=False)[:n_feat].index  \n",
    "    \n",
    "    mean_imp = feature_importance_df_[[\"feature\", \"importance\"]].groupby(\"feature\").mean()\n",
    "    df_2_neglect = mean_imp[mean_imp['importance'] < 1e-3]\n",
    "    \n",
    "    if not silent:\n",
    "        print('The list of features with 0 importance: ')\n",
    "        print(df_2_neglect.index.values.tolist())\n",
    "\n",
    "        pd.set_option('display.max_rows', 500)\n",
    "        pd.set_option('display.max_columns', 500)\n",
    "        for feat_prefix in dump_strs:\n",
    "            feat_names = [x for x in mean_imp.index if feat_prefix in x]\n",
    "            print(mean_imp.loc[feat_names].sort_values(by='importance', ascending=False))\n",
    "    del mean_imp, df_2_neglect\n",
    "    \n",
    "    best_features = feature_importance_df_.loc[feature_importance_df_.feature.isin(cols)]\n",
    "    \n",
    "    plt.figure(figsize=(8,10))\n",
    "    sns.barplot(x=\"importance\", y=\"feature\", \n",
    "                data=best_features.sort_values(by=\"importance\", ascending=False))\n",
    "    plt.title(title)\n",
    "    plt.tight_layout()\n",
    "\n",
    "    if fout_name is not None:\n",
    "        plt.savefig(fout_name)\n"
   ]
  },
  {
   "cell_type": "code",
   "execution_count": 49,
   "metadata": {
    "ExecuteTime": {
     "end_time": "2018-11-30T21:42:14.707587Z",
     "start_time": "2018-11-30T21:42:14.703849Z"
    },
    "_uuid": "af7c4e74f6882baa0bd8828482fa7cb88c792583"
   },
   "outputs": [],
   "source": [
    "model_name = [k for k in clfss.keys() if 'lgbm' in k][0]"
   ]
  },
  {
   "cell_type": "code",
   "execution_count": 50,
   "metadata": {
    "ExecuteTime": {
     "end_time": "2018-11-30T21:42:15.251363Z",
     "start_time": "2018-11-30T21:42:14.710820Z"
    },
    "_kg_hide-input": true,
    "_kg_hide-output": true,
    "_uuid": "d76f679e719d69f4782f02701237dd54e9c68aff"
   },
   "outputs": [
    {
     "name": "stdout",
     "output_type": "stream",
     "text": [
      "The list of features with 0 importance: \n",
      "['frac_purchaces_2M', 'frac_purchaces_3M', 'frac_revenue_6M', 'geoNetwork_continent', 'geoNetwork_country_gdp_growth', 'geoNetwork_country_handy', 'geoNetwork_country_internet', 'geoNetwork_country_m2f', 'geoNetwork_country_pop_density', 'geoNetwork_subContinent', 'n_bounces_12M', 'n_bounces_3M', 'n_bounces_6M', 'n_purchases_12M', 'n_purchases_2M', 'n_purchases_3M', 'n_purchases_6M', 'totals_bounces', 'totals_visits', 'trafficSource_adContent', 'trafficSource_campaign']\n"
     ]
    },
    {
     "data": {
      "image/png": "[encoded data removed]",
      "text/plain": [
       "<Figure size 576x720 with 1 Axes>"
      ]
     },
     "metadata": {},
     "output_type": "display_data"
    }
   ],
   "source": [
    "display_importances(pd.DataFrame({'feature': X_trn.columns,\n",
    "                                  'importance': clfss[model_name][0][1].booster_.feature_importance('gain')}),\n",
    "                    n_feat=20,\n",
    "                    title='GAIN feature importance'\n",
    "                   )"
   ]
  },
  {
   "cell_type": "code",
   "execution_count": 51,
   "metadata": {
    "ExecuteTime": {
     "end_time": "2018-11-30T21:42:15.737846Z",
     "start_time": "2018-11-30T21:42:15.253497Z"
    },
    "_kg_hide-input": true,
    "_kg_hide-output": true,
    "_uuid": "61fe74c06d903eed9f536f2b1c0606f911dee497"
   },
   "outputs": [
    {
     "name": "stdout",
     "output_type": "stream",
     "text": [
      "The list of features with 0 importance: \n",
      "['frac_purchaces_2M', 'frac_purchaces_3M', 'frac_revenue_6M', 'geoNetwork_continent', 'geoNetwork_country_gdp_growth', 'geoNetwork_country_handy', 'geoNetwork_country_internet', 'geoNetwork_country_m2f', 'geoNetwork_country_pop_density', 'geoNetwork_subContinent', 'n_bounces_12M', 'n_bounces_3M', 'n_bounces_6M', 'n_purchases_12M', 'n_purchases_2M', 'n_purchases_3M', 'n_purchases_6M', 'totals_bounces', 'totals_visits', 'trafficSource_adContent', 'trafficSource_campaign']\n"
     ]
    },
    {
     "data": {
      "image/png": "[encoded data removed]",
      "text/plain": [
       "<Figure size 576x720 with 1 Axes>"
      ]
     },
     "metadata": {},
     "output_type": "display_data"
    }
   ],
   "source": [
    "display_importances(pd.DataFrame({'feature': X_trn.columns,\n",
    "                                  'importance': clfss[model_name][0][1].booster_.feature_importance('split')}),\n",
    "                    n_feat=20,\n",
    "                    title='SPLIT feature importance'\n",
    "                   )"
   ]
  },
  {
   "cell_type": "code",
   "execution_count": 52,
   "metadata": {
    "ExecuteTime": {
     "end_time": "2018-11-30T21:42:15.743705Z",
     "start_time": "2018-11-30T21:42:15.740179Z"
    },
    "_uuid": "816d886aa97cbfb708476c4ec7f2745b0e889fb9"
   },
   "outputs": [],
   "source": [
    "# import shap\n",
    "# shap_values = shap.TreeExplainer(clfss[model_name][0][1].booster_).shap_values(X_trn)\n",
    "# shap.summary_plot(shap_values, X_trn, plot_type='bar')"
   ]
  },
  {
   "cell_type": "code",
   "execution_count": 114,
   "metadata": {
    "ExecuteTime": {
     "end_time": "2018-11-30T18:15:22.075329Z",
     "start_time": "2018-11-30T18:15:21.424356Z"
    },
    "_uuid": "1c64de1c9038be05aceb1cd89900bf8ff5592c64"
   },
   "outputs": [
    {
     "name": "stdout",
     "output_type": "stream",
     "text": [
      "Mean of OOF: 0.0053\n"
     ]
    },
    {
     "data": {
      "image/png": "[encoded data removed]",
      "text/plain": [
       "<Figure size 432x288 with 1 Axes>"
      ]
     },
     "metadata": {},
     "output_type": "display_data"
    }
   ],
   "source": [
    "model_name_plot = 'lgbm1_reg' if 'lgbm1_reg' in y_subs.keys() else model_name\n",
    "\n",
    "print('Mean of OOF: {:.4f}'.format(np.mean(y_full_oofs[model_name_plot])))\n",
    "#print('Mean of SUB: {:.4f}'.format(np.mean(y_subs[model_name_plot])))\n",
    "\n",
    "#_ = pd.Series(y_subs[model_name_plot]).plot(kind='hist', logy=True, bins=50, grid=True, legend=True, label='Submission')\n",
    "_ = y_full_oofs[model_name_plot].plot(kind='hist', logy=True, bins=50, grid=True, legend=True, label='OOF', alpha=0.4)"
   ]
  },
  {
   "cell_type": "markdown",
   "metadata": {
    "_uuid": "49b00096ccf0ca43f5ae926b79b5f4f24f73bb9f"
   },
   "source": [
    "## Test a model with classifiers added"
   ]
  },
  {
   "cell_type": "code",
   "execution_count": 115,
   "metadata": {
    "ExecuteTime": {
     "end_time": "2018-11-30T18:15:28.555584Z",
     "start_time": "2018-11-30T18:15:28.551537Z"
    },
    "_kg_hide-input": true,
    "_uuid": "aa0915a400ec88cb08cc2835adfc839a6017238a"
   },
   "outputs": [],
   "source": [
    "from sklearn.ensemble import ExtraTreesRegressor\n",
    "if do_clfs:\n",
    "    clf_inputs2 = clf_inputs\n",
    "else:\n",
    "    clf_inputs2 = {}\n",
    "# {\n",
    "#         'lgbm1_reg': (lgb.LGBMRegressor(max_depth=-1, min_child_samples=400, random_state=314, silent=True, metric='None', n_jobs=4, n_estimators=5000, learning_rate=0.05),\n",
    "#                  {'colsample_bytree': 0.715, 'min_child_weight': 10.0, 'num_leaves': 32, 'reg_alpha': 5, 'subsample': 0.756}, \n",
    "#                  {\"early_stopping_rounds\":100, \n",
    "#                   \"eval_metric\" : 'mse',\n",
    "#                   'eval_names': ['train', 'early_stop'],\n",
    "#                   'verbose': 100, \n",
    "#                   'callbacks': [lgb.reset_parameter(learning_rate=learning_rate_decay_power)],\n",
    "#                   'categorical_feature': 'auto'},\n",
    "#                  y)\n",
    "#        }"
   ]
  },
  {
   "cell_type": "code",
   "execution_count": 117,
   "metadata": {
    "ExecuteTime": {
     "end_time": "2018-11-30T18:15:40.633558Z",
     "start_time": "2018-11-30T18:15:40.505648Z"
    },
    "_uuid": "0963da6d2a5173fa811ee34c2e68846e536adf94"
   },
   "outputs": [],
   "source": [
    "X_trn_tmp = pd.concat([X_trn[[c for c in X_trn.columns if 'lgbm' not in c]], \n",
    "                       pd.DataFrame(y_oofs_fe)], \n",
    "                      axis=1)\n",
    "# X_tst_tmp = pd.concat([X_tst[[c for c in X_tst.columns if 'lgbm' not in c]], \n",
    "#                        pd.DataFrame(y_clf_fe)],\n",
    "#                       axis=1)"
   ]
  },
  {
   "cell_type": "code",
   "execution_count": 118,
   "metadata": {
    "ExecuteTime": {
     "end_time": "2018-11-30T18:16:08.640937Z",
     "start_time": "2018-11-30T18:15:45.120180Z"
    },
    "_kg_hide-input": true,
    "_uuid": "4f35b70c2d158458ffad0463c41efda9332008e2"
   },
   "outputs": [
    {
     "name": "stdout",
     "output_type": "stream",
     "text": [
      "--------------- lgbm1_reg -----------\n",
      "Training until validation scores don't improve for 100 rounds.\n",
      "[100]\ttrain's rmse: 0.298766\tearly_stop's rmse: 0.307734\n",
      "Early stopping, best iteration is:\n",
      "[30]\ttrain's rmse: 0.30122\tearly_stop's rmse: 0.307479\n",
      "Performance with const=0: 0.3083\n",
      "Training until validation scores don't improve for 100 rounds.\n",
      "[100]\ttrain's rmse: 0.298437\tearly_stop's rmse: 0.308901\n",
      "[200]\ttrain's rmse: 0.297455\tearly_stop's rmse: 0.308886\n",
      "Early stopping, best iteration is:\n",
      "[175]\ttrain's rmse: 0.29761\tearly_stop's rmse: 0.308874\n",
      "Performance with const=0: 0.3108\n",
      "Training until validation scores don't improve for 100 rounds.\n",
      "[100]\ttrain's rmse: 0.303999\tearly_stop's rmse: 0.297471\n",
      "Early stopping, best iteration is:\n",
      "[68]\ttrain's rmse: 0.30471\tearly_stop's rmse: 0.297435\n",
      "Performance with const=0: 0.2988\n",
      "Performance of the model:\n",
      "Mean(Val) score inner lgbm1_reg model: 0.3046+-0.0051\n",
      "Min/max scores on folds: 0.2974 / 0.3089\n",
      "OOF score inner lgbm1_reg model: 0.3046\n",
      "Scores in individual folds: [0.30747882 0.30887402 0.29743451]\n",
      "CPU times: user 1min 31s, sys: 1.9 s, total: 1min 33s\n",
      "Wall time: 23.5 s\n"
     ]
    }
   ],
   "source": [
    "%%time\n",
    "clfss = {}\n",
    "results = {}\n",
    "y_full_oofs = {}\n",
    "for name, (clf, clf_pars, fit_pars, y_) in clf_inputs2.items():\n",
    "    print('--------------- {} -----------'.format(name))\n",
    "    clfs_, perf_eval, y_full_oof = train_model_in_CV(clf, X_trn_tmp,\n",
    "                                                     y_, mean_squared_error, \n",
    "                                                          metric_args={'sqrt': True},\n",
    "                                                          model_name=name, \n",
    "                                                          opt_parameters_=clf_pars,\n",
    "                                                          fit_params_=fit_pars, \n",
    "                                                          n=n_cv,\n",
    "                                                          verbose=100)\n",
    "    results[name] = perf_eval\n",
    "    clfss[name] = clfs_\n",
    "    y_full_oofs[name] = y_full_oof\n",
    "    print_perf_clf(name, perf_eval)"
   ]
  },
  {
   "cell_type": "code",
   "execution_count": 119,
   "metadata": {
    "ExecuteTime": {
     "end_time": "2018-11-30T18:16:21.029332Z",
     "start_time": "2018-11-30T18:16:20.609190Z"
    },
    "_kg_hide-input": true,
    "_kg_hide-output": true,
    "_uuid": "4bf4b0cae457f0b8a0257eb10745f978dac36629"
   },
   "outputs": [
    {
     "name": "stdout",
     "output_type": "stream",
     "text": [
      "The list of features with 0 importance: \n",
      "['device_browser', 'device_deviceCategory', 'device_isMobile', 'frac_revenue_6M', 'geoNetwork_continent', 'geoNetwork_country_gdp_growth', 'geoNetwork_country_handy', 'geoNetwork_country_internet', 'geoNetwork_country_m2f', 'geoNetwork_country_pop_density', 'geoNetwork_country_pop_urban', 'geoNetwork_country_population', 'geoNetwork_country_unemployment', 'geoNetwork_subContinent', 'n_bounces_6M', 'n_purchases_6M', 'totals_bounces', 'totals_transactionRevenue', 'totals_visits', 'trafficSource_adContent', 'trafficSource_campaign']\n"
     ]
    },
    {
     "data": {
      "image/png": "[encoded data removed]",
      "text/plain": [
       "<Figure size 576x720 with 1 Axes>"
      ]
     },
     "metadata": {},
     "output_type": "display_data"
    }
   ],
   "source": [
    "if do_clfs:\n",
    "    display_importances(pd.DataFrame({'feature': X_trn_tmp.columns,\n",
    "                                  'importance': clfss[model_name][0][1].booster_.feature_importance('gain')}),\n",
    "                    n_feat=20,\n",
    "                    title='GAIN feature importance'\n",
    "                   )"
   ]
  },
  {
   "cell_type": "code",
   "execution_count": 120,
   "metadata": {
    "ExecuteTime": {
     "end_time": "2018-11-30T18:16:51.388042Z",
     "start_time": "2018-11-30T18:16:50.897440Z"
    },
    "_kg_hide-output": true,
    "_uuid": "935566b15ff31e4ac45ac7b7e348661b77c6301c",
    "scrolled": true
   },
   "outputs": [
    {
     "name": "stdout",
     "output_type": "stream",
     "text": [
      "The list of features with 0 importance: \n",
      "['device_browser', 'device_deviceCategory', 'device_isMobile', 'frac_revenue_6M', 'geoNetwork_continent', 'geoNetwork_country_gdp_growth', 'geoNetwork_country_handy', 'geoNetwork_country_internet', 'geoNetwork_country_m2f', 'geoNetwork_country_pop_density', 'geoNetwork_country_pop_urban', 'geoNetwork_country_population', 'geoNetwork_country_unemployment', 'geoNetwork_subContinent', 'n_bounces_6M', 'n_purchases_6M', 'totals_bounces', 'totals_transactionRevenue', 'totals_visits', 'trafficSource_adContent', 'trafficSource_campaign']\n"
     ]
    },
    {
     "data": {
      "image/png": "[encoded data removed]",
      "text/plain": [
       "<Figure size 576x720 with 1 Axes>"
      ]
     },
     "metadata": {},
     "output_type": "display_data"
    }
   ],
   "source": [
    "if do_clfs:\n",
    "    display_importances(pd.DataFrame({'feature': X_trn_tmp.columns,\n",
    "                                  'importance': clfss[model_name][0][1].booster_.feature_importance('split')}),\n",
    "                    n_feat=20,\n",
    "                    title='SPLIT feature importance'\n",
    "                   )"
   ]
  },
  {
   "cell_type": "markdown",
   "metadata": {
    "_uuid": "3c8535c9a42e6962f2f48c3b348a63d2bafa3845"
   },
   "source": [
    "## Make submission predictions"
   ]
  },
  {
   "cell_type": "code",
   "execution_count": 121,
   "metadata": {
    "ExecuteTime": {
     "end_time": "2018-11-30T18:16:57.093817Z",
     "start_time": "2018-11-30T18:16:57.081167Z"
    },
    "_uuid": "d4e37abfaf321f71cc8d28d4cc77bc6ccba334aa"
   },
   "outputs": [
    {
     "ename": "NameError",
     "evalue": "name 'idx_tst' is not defined",
     "output_type": "error",
     "traceback": [
      "\u001b[0;31m---------------------------------------------------------------------------\u001b[0m",
      "\u001b[0;31mNameError\u001b[0m                                 Traceback (most recent call last)",
      "\u001b[0;32m<ipython-input-121-f5f37a7c2e8a>\u001b[0m in \u001b[0;36m<module>\u001b[0;34m()\u001b[0m\n\u001b[1;32m      2\u001b[0m \u001b[0;32mfor\u001b[0m \u001b[0mc\u001b[0m \u001b[0;32min\u001b[0m \u001b[0mclf_inputs2\u001b[0m\u001b[0;34m:\u001b[0m\u001b[0;34m\u001b[0m\u001b[0m\n\u001b[1;32m      3\u001b[0m     \u001b[0mclfs_\u001b[0m\u001b[0;34m=\u001b[0m \u001b[0mclfss\u001b[0m\u001b[0;34m[\u001b[0m\u001b[0mc\u001b[0m\u001b[0;34m]\u001b[0m\u001b[0;34m\u001b[0m\u001b[0m\n\u001b[0;32m----> 4\u001b[0;31m     \u001b[0my_sub\u001b[0m \u001b[0;34m=\u001b[0m \u001b[0mnp\u001b[0m\u001b[0;34m.\u001b[0m\u001b[0mzeros\u001b[0m\u001b[0;34m(\u001b[0m\u001b[0midx_tst\u001b[0m\u001b[0;34m.\u001b[0m\u001b[0mshape\u001b[0m\u001b[0;34m)\u001b[0m\u001b[0;34m\u001b[0m\u001b[0m\n\u001b[0m\u001b[1;32m      5\u001b[0m     \u001b[0;32mfor\u001b[0m \u001b[0mclf_\u001b[0m \u001b[0;32min\u001b[0m \u001b[0mclfs_\u001b[0m\u001b[0;34m:\u001b[0m\u001b[0;34m\u001b[0m\u001b[0m\n\u001b[1;32m      6\u001b[0m         \u001b[0my_sub\u001b[0m \u001b[0;34m+=\u001b[0m \u001b[0mclf_\u001b[0m\u001b[0;34m[\u001b[0m\u001b[0;36m1\u001b[0m\u001b[0;34m]\u001b[0m\u001b[0;34m.\u001b[0m\u001b[0mpredict\u001b[0m\u001b[0;34m(\u001b[0m\u001b[0mX_tst_tmp\u001b[0m\u001b[0;34m)\u001b[0m\u001b[0;34m\u001b[0m\u001b[0m\n",
      "\u001b[0;31mNameError\u001b[0m: name 'idx_tst' is not defined"
     ]
    }
   ],
   "source": [
    "y_subs= {}\n",
    "for c in clf_inputs2:\n",
    "    clfs_= clfss[c]\n",
    "    y_sub = np.zeros(idx_tst.shape)\n",
    "    for clf_ in clfs_:\n",
    "        y_sub += clf_[1].predict(X_tst_tmp)\n",
    "    y_sub /= len(clfs_)\n",
    "    \n",
    "    y_subs[c] = y_sub"
   ]
  },
  {
   "cell_type": "code",
   "execution_count": null,
   "metadata": {
    "_uuid": "3ce0ddb049da7afda33ad7042bbe6ad44bfd55ca"
   },
   "outputs": [],
   "source": [
    "for c in clf_inputs2:\n",
    "    sub = pd.DataFrame(y_subs[c], index=idx_tst)\n",
    "    sub.columns = ['PredictedLogRevenue']\n",
    "    sub.clip_lower(0, inplace=True)\n",
    "    sub.to_csv('sub_{}_with_CLF.csv'.format(c))\n",
    "    \n",
    "    oof = pd.DataFrame(y_full_oofs[c].values, index=idx_trn)\n",
    "    oof.columns = ['OOFTotalLogRevenue']\n",
    "    oof.clip_lower(0, inplace=True)\n",
    "    oof.to_csv('oof_{}_with_CLF.csv'.format(c))"
   ]
  },
  {
   "cell_type": "markdown",
   "metadata": {
    "_uuid": "b9eaffd2ce609b69c5967d0a96ba6b859d1ef9b2"
   },
   "source": [
    "# Under construction...."
   ]
  },
  {
   "cell_type": "code",
   "execution_count": null,
   "metadata": {
    "_uuid": "88aa4a078b2dd4c4744ee7e173d13a210d2db2cd"
   },
   "outputs": [],
   "source": [
    "# y_train.loc[lambda x: x>0].mean()"
   ]
  },
  {
   "cell_type": "code",
   "execution_count": null,
   "metadata": {
    "_uuid": "83135e59ea90ce72aa3ddadd290227568c9d923d"
   },
   "outputs": [],
   "source": [
    "model_name_plot = 'lgbm1_reg' if 'lgbm1_reg' in y_subs.keys() else model_name"
   ]
  },
  {
   "cell_type": "code",
   "execution_count": null,
   "metadata": {
    "_uuid": "4abe992a64d538f50f8ac97d9851029c3cdef900"
   },
   "outputs": [],
   "source": [
    "np.mean(y_subs[model_name_plot])"
   ]
  },
  {
   "cell_type": "code",
   "execution_count": null,
   "metadata": {
    "_uuid": "b6f5ed1479143447700c2dabd52bec80ae84c075"
   },
   "outputs": [],
   "source": [
    "y_full_oofs[model_name_plot].mean()"
   ]
  },
  {
   "cell_type": "code",
   "execution_count": null,
   "metadata": {
    "_uuid": "69befd7841dad6ea76cb2072a97401e9bfb5553f"
   },
   "outputs": [],
   "source": [
    "pd.Series(y_subs[model_name_plot]).plot(kind='hist', logy=True, bins=25)"
   ]
  },
  {
   "cell_type": "code",
   "execution_count": null,
   "metadata": {
    "_uuid": "cbdd93a3784c4687f20e77e3cdf5e978d48afe85"
   },
   "outputs": [],
   "source": [
    "y_full_oofs[model_name_plot].plot(kind='hist', logy=True, bins=25)"
   ]
  },
  {
   "cell_type": "code",
   "execution_count": null,
   "metadata": {
    "_uuid": "083c52cf3dc3dc65caf7574c31b80b534c363298"
   },
   "outputs": [],
   "source": [
    "# y_test.plot(kind='hist', logy=True)"
   ]
  },
  {
   "cell_type": "code",
   "execution_count": null,
   "metadata": {
    "_uuid": "ebe8e5a9065697d770ab3239ca050f59cc796f6a"
   },
   "outputs": [],
   "source": [
    "# 17.8 is the average log1p of the non-0 grouped training data: np.log1p(y.iloc[:,0].loc[lambda x: x>0]).mean()\n",
    "# sub = pd.DataFrame(y_sub*17.8, index=df_tst_gb.index)"
   ]
  },
  {
   "cell_type": "code",
   "execution_count": null,
   "metadata": {
    "_uuid": "dfac4765756b7493ef81e86e0c3e401eb0576ef5"
   },
   "outputs": [],
   "source": [
    "# sub.columns=['PredictedLogRevenue']"
   ]
  },
  {
   "cell_type": "code",
   "execution_count": null,
   "metadata": {
    "_uuid": "b0ba9b602c396c40d48145a3274f51c8431b9a51"
   },
   "outputs": [],
   "source": [
    "# sub.to_csv('sub_clf.csv')"
   ]
  },
  {
   "cell_type": "code",
   "execution_count": null,
   "metadata": {
    "_uuid": "4b25dd89fe7af42aaaedbe25ab0de58f85ce9c4e"
   },
   "outputs": [],
   "source": [
    "# !head sub_clf.csv"
   ]
  },
  {
   "cell_type": "code",
   "execution_count": null,
   "metadata": {
    "_uuid": "d3e6bbb027738f7153ad013b9f57f321558c9a8e"
   },
   "outputs": [],
   "source": []
  }
 ],
 "metadata": {
  "kernelspec": {
   "display_name": "Python 3",
   "language": "python",
   "name": "python3"
  },
  "language_info": {
   "codemirror_mode": {
    "name": "ipython",
    "version": 3
   },
   "file_extension": ".py",
   "mimetype": "text/x-python",
   "name": "python",
   "nbconvert_exporter": "python",
   "pygments_lexer": "ipython3",
   "version": "3.5.5"
  },
  "toc": {
   "base_numbering": 1,
   "nav_menu": {},
   "number_sections": true,
   "sideBar": true,
   "skip_h1_title": false,
   "title_cell": "Table of Contents",
   "title_sidebar": "Contents",
   "toc_cell": false,
   "toc_position": {
    "height": "calc(100% - 180px)",
    "left": "10px",
    "top": "150px",
    "width": "244px"
   },
   "toc_section_display": true,
   "toc_window_display": true
  }
 },
 "nbformat": 4,
 "nbformat_minor": 1
}
